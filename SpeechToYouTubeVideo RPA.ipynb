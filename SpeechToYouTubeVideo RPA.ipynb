{
 "cells": [
  {
   "cell_type": "code",
   "execution_count": 1,
   "id": "374629b8",
   "metadata": {},
   "outputs": [],
   "source": [
    "# The Libraries & Imports used\n",
    "import speech_recognition as sr\n",
    "import pyttsx3 # pyttsx3 is a text-to-speech conversion library\n",
    "import pywhatkit\n",
    "import wikipedia"
   ]
  },
  {
   "cell_type": "code",
   "execution_count": 2,
   "id": "f3386d3d",
   "metadata": {},
   "outputs": [],
   "source": [
    "# 'listener' object instance is Created\n",
    "# 'engine' is created and initialised\n",
    "# 'voices' are obtained from the engine and the 'engine' is setup\n",
    "listener=sr.Recognizer()\n",
    "engine=pyttsx3.init()\n",
    "voices=engine.getProperty('voices')\n",
    "engine.setProperty('voice',voices[1].id)"
   ]
  },
  {
   "cell_type": "code",
   "execution_count": 3,
   "id": "326a1920",
   "metadata": {},
   "outputs": [],
   "source": [
    "# Function for the Engine to get talk back when given a 'text' I/P\n",
    "def talk(text):\n",
    "    engine.say(text)\n",
    "    engine.runAndWait()"
   ]
  },
  {
   "cell_type": "code",
   "execution_count": 4,
   "id": "847313ee",
   "metadata": {},
   "outputs": [],
   "source": [
    "# Function to take response from user and Google will recognise the voice and convert to speech\n",
    "def take_command():\n",
    "    try:\n",
    "        with sr.Microphone() as source:\n",
    "            print('listening...')\n",
    "            voice=listener.listen(source)\n",
    "            command=listener.recognize_google(voice)\n",
    "            #command='alfred play'\n",
    "            command=command.lower()\n",
    "            if 'alfred' in command:\n",
    "                command=command.replace('alfred','')\n",
    "                print(command)\n",
    "    except:\n",
    "        pass\n",
    "    return command"
   ]
  },
  {
   "cell_type": "code",
   "execution_count": 5,
   "id": "1e597bd6",
   "metadata": {},
   "outputs": [],
   "source": [
    "# Goes to YouTube and plays the video\n",
    "def run_alfred():\n",
    "    command=take_command()\n",
    "    print(command)\n",
    "    if 'play' in command:\n",
    "        song=command.replace('play',\"\")\n",
    "        talk('playing'+song)\n",
    "        pywhatkit.playonyt(song)\n",
    "    else:\n",
    "        talk('please say the command again')"
   ]
  },
  {
   "cell_type": "code",
   "execution_count": null,
   "id": "152b7886",
   "metadata": {},
   "outputs": [],
   "source": [
    "while True:\n",
    "    run_alfred()"
   ]
  }
 ],
 "metadata": {
  "kernelspec": {
   "display_name": "Python 3 (ipykernel)",
   "language": "python",
   "name": "python3"
  },
  "language_info": {
   "codemirror_mode": {
    "name": "ipython",
    "version": 3
   },
   "file_extension": ".py",
   "mimetype": "text/x-python",
   "name": "python",
   "nbconvert_exporter": "python",
   "pygments_lexer": "ipython3",
   "version": "3.9.12"
  }
 },
 "nbformat": 4,
 "nbformat_minor": 5
}
